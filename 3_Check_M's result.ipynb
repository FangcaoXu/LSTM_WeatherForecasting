{
 "cells": [
  {
   "cell_type": "code",
   "execution_count": 1,
   "metadata": {},
   "outputs": [
    {
     "name": "stdout",
     "output_type": "stream",
     "text": [
      "CPU times: user 2.75 s, sys: 2.27 s, total: 5.02 s\n",
      "Wall time: 1.3 s\n"
     ]
    }
   ],
   "source": [
    "%%time\n",
    "from concurrent.futures import ProcessPoolExecutor\n",
    "from datetime import datetime, timedelta\n",
    "import matplotlib.pyplot as plt\n",
    "import numpy as np\n",
    "import os\n",
    "import pandas as pd\n",
    "import random\n",
    "from statistics import mean \n",
    "import time\n",
    "import torch\n",
    "\n",
    "import sys\n",
    "script_path = os.path.abspath(\"pyscripts\")\n",
    "if script_path not in sys.path:\n",
    "    sys.path.append(script_path)\n",
    "from utils import *\n",
    "from load_data import *\n",
    "from lstm import *"
   ]
  },
  {
   "cell_type": "code",
   "execution_count": 2,
   "metadata": {},
   "outputs": [],
   "source": [
    "# time sequence\n",
    "train_window = 48\n",
    "input_size = 1\n",
    "output_size = 24\n",
    "hidden_size = 48\n",
    "num_layers = 2\n",
    "learning_rate = 0.005\n",
    "\n",
    "# use GPU if available\n",
    "device = torch.device(\"cuda\" if torch.cuda.is_available() else \"cpu\")"
   ]
  },
  {
   "cell_type": "code",
   "execution_count": 3,
   "metadata": {},
   "outputs": [],
   "source": [
    "obs = np.load('/home/graduate/fbx5002/disk10TB/IEE/IoT_Weather_Data/Geotab_Obs_Ratio05.npy')\n",
    "# swap rows and columns, obs = np.swapaxes(obs, 0, 1)\n",
    "obs = obs.T\n",
    "times = np.load('/home/graduate/fbx5002/disk10TB/IEE/IoT_Weather_Data/Geotab_Obs_TS_Ratio05.npy')\n",
    "times = [datetime.utcfromtimestamp(x.tolist()/1e9) for x in times]\n",
    "stations = pd.read_csv('/home/graduate/fbx5002/disk10TB/IEE/IoT_Weather_Data/selected_Geotab_stations_Ratio05.csv')\n",
    "stations = stations[stations.columns[[3,1,2,4]]]\n",
    "\n",
    "weather_station_2015_2020 = pd.read_csv(\"/home/graduate/fbx5002/disk10TB/IEE/IoT_Weather_Data/weather_station_2015_2020.csv\")\n",
    "weather_time_2015_2020 = np.load('/home/graduate/fbx5002/disk10TB/IEE/IoT_Weather_Data/weather_time_2015_2020.npy', allow_pickle=True)\n",
    "\n",
    "weather_obs_2015_2020 = np.load('/home/graduate/fbx5002/disk10TB/IEE/IoT_Weather_Data/weather_obs_2015_2020.npy')\n",
    "weather_obs_2010_2020 = np.load('/home/graduate/fbx5002/disk10TB/IEE/IoT_Weather_Data/weather_obs_2010_2020.npy')"
   ]
  },
  {
   "cell_type": "code",
   "execution_count": 4,
   "metadata": {},
   "outputs": [],
   "source": [
    "stations5 = set(stations.sort_values('missing')[:455]['geohash'])\n",
    "stations10= set(stations.sort_values('missing')[:1650]['geohash'])\n",
    "stations15= set(stations.sort_values('missing')[:2107]['geohash'])\n",
    "stations20= set(stations.sort_values('missing')[:2562]['geohash'])\n",
    "wu_stations = set(weather_station_2015_2020['station'])"
   ]
  },
  {
   "cell_type": "code",
   "execution_count": 5,
   "metadata": {},
   "outputs": [],
   "source": [
    "num_epochs = 101\n",
    "epoch_interval = 2"
   ]
  },
  {
   "cell_type": "code",
   "execution_count": 6,
   "metadata": {},
   "outputs": [
    {
     "name": "stdout",
     "output_type": "stream",
     "text": [
      "-22.55 48.0\n",
      "-29.632716049382715 48.0\n"
     ]
    }
   ],
   "source": [
    "# two dataset used different norm_min, norm_max\n",
    "# read save data\n",
    "loaded5 = torch.load('./checkpoint/IoT_final/TensorData/Torch_db5WU')\n",
    "train_tensors5 = loaded5['train']\n",
    "test_tensors5 = loaded5['test']\n",
    "test_times5 = loaded5['selected_days']\n",
    "norm_min5, norm_max5 = train_tensors5.min, train_tensors5.max\n",
    "print(norm_min5, norm_max5)\n",
    "\n",
    "# read save data\n",
    "loaded10 = torch.load('./checkpoint/IoT_final/TensorData/Torch_db10WU')\n",
    "train_tensors10 = loaded10['train']\n",
    "test_tensors10 = loaded10['test']\n",
    "test_times10 = loaded10['selected_days']\n",
    "norm_min10, norm_max10 = train_tensors10.min, train_tensors10.max\n",
    "print(norm_min10, norm_max10)"
   ]
  },
  {
   "cell_type": "code",
   "execution_count": 7,
   "metadata": {},
   "outputs": [
    {
     "data": {
      "text/plain": [
       "<All keys matched successfully>"
      ]
     },
     "execution_count": 7,
     "metadata": {},
     "output_type": "execute_result"
    }
   ],
   "source": [
    "checkpoint5 = torch.load('./checkpoint/IoT_final/checkpoint-5.5-{epoch}.pth.tar'.format(epoch=60))\n",
    "checkpoint10 = torch.load('./checkpoint/IoT_final/checkpoint-10-{epoch}.pth.tar'.format(epoch=23))\n",
    "checkpoint15 = torch.load('./checkpoint/IoT_final/checkpoint-15-{epoch}.pth.tar'.format(epoch=8))\n",
    "checkpoint20 = torch.load('./checkpoint/IoT_final/checkpoint-20-{epoch}.pth.tar'.format(epoch=7))\n",
    "\n",
    "checkpoint5IoT5WU = torch.load('./checkpoint/IoT_final/checkpoint-5.5-IoT-5-W-{epoch}.pth.tar'.format(epoch=18))\n",
    "checkpoint10IoT5WU = torch.load('./checkpoint/IoT_final/checkpoint-10-IoT-5-W-{epoch}.pth.tar'.format(epoch=9))\n",
    "checkpoint15IoT5WU = torch.load('./checkpoint/IoT_final/checkpoint-15-IoT-5-W-{epoch}.pth.tar'.format(epoch=5))\n",
    "checkpoint20IoT5WU = torch.load('./checkpoint/IoT_final/checkpoint-20-IoT-5-W-{epoch}.pth.tar'.format(epoch=7))\n",
    "\n",
    "checkpoint5IoT10WU = torch.load('./checkpoint/IoT_final/checkpoint-5.5-IoT-10-W-{epoch}.pth.tar'.format(epoch=15))\n",
    "checkpoint10IoT10WU = torch.load('./checkpoint/IoT_final/checkpoint-10-IoT-10-W-{epoch}.pth.tar'.format(epoch=12))\n",
    "checkpoint15IoT10WU = torch.load('./checkpoint/IoT_final/checkpoint-15-IoT-10-W-{epoch}.pth.tar'.format(epoch=5))\n",
    "checkpoint20IoT10WU = torch.load('./checkpoint/IoT_final/checkpoint-20-IoT-10-W-{epoch}.pth.tar'.format(epoch=3))\n",
    "\n",
    "\n",
    "_, model5, _ = initial_model(input_size, output_size, hidden_size, num_layers, learning_rate, device)\n",
    "_, model10, _ = initial_model(input_size, output_size, hidden_size, num_layers, learning_rate, device)\n",
    "_, model15, _ = initial_model(input_size, output_size, hidden_size, num_layers, learning_rate, device)\n",
    "_, model20, _ = initial_model(input_size, output_size, hidden_size, num_layers, learning_rate, device)\n",
    "\n",
    "_, model5IoT5WU, _ = initial_model(input_size, output_size, hidden_size, num_layers, learning_rate, device)\n",
    "_, model10IoT5WU, _ = initial_model(input_size, output_size, hidden_size, num_layers, learning_rate, device)\n",
    "_, model15IoT5WU, _ = initial_model(input_size, output_size, hidden_size, num_layers, learning_rate, device)\n",
    "_, model20IoT5WU, _ = initial_model(input_size, output_size, hidden_size, num_layers, learning_rate, device)\n",
    "\n",
    "_, model5IoT10WU, _ = initial_model(input_size, output_size, hidden_size, num_layers, learning_rate, device)\n",
    "_, model10IoT10WU, _ = initial_model(input_size, output_size, hidden_size, num_layers, learning_rate, device)\n",
    "_, model15IoT10WU, _ = initial_model(input_size, output_size, hidden_size, num_layers, learning_rate, device)\n",
    "_, model20IoT10WU, _ = initial_model(input_size, output_size, hidden_size, num_layers, learning_rate, device)\n",
    "\n",
    "\n",
    "model5.load_state_dict(checkpoint5['bestLossModel'])\n",
    "model10.load_state_dict(checkpoint10['bestLossModel'])\n",
    "model15.load_state_dict(checkpoint15['bestLossModel'])\n",
    "model20.load_state_dict(checkpoint20['bestLossModel'])\n",
    "\n",
    "model5IoT5WU.load_state_dict(checkpoint5IoT5WU['bestLossModel'])\n",
    "model10IoT5WU.load_state_dict(checkpoint10IoT5WU['bestLossModel'])\n",
    "model15IoT5WU.load_state_dict(checkpoint15IoT5WU['bestLossModel'])\n",
    "model20IoT5WU.load_state_dict(checkpoint20IoT5WU['bestLossModel'])\n",
    "\n",
    "model5IoT10WU.load_state_dict(checkpoint5IoT10WU['bestLossModel'])\n",
    "model10IoT10WU.load_state_dict(checkpoint10IoT10WU['bestLossModel'])\n",
    "model15IoT10WU.load_state_dict(checkpoint15IoT10WU['bestLossModel'])\n",
    "model20IoT10WU.load_state_dict(checkpoint20IoT10WU['bestLossModel'])"
   ]
  },
  {
   "cell_type": "code",
   "execution_count": 8,
   "metadata": {},
   "outputs": [
    {
     "name": "stdout",
     "output_type": "stream",
     "text": [
      "Minimum, Mean and Maximum RMSE/MAE for Testing Stations are: (3.4387644436254536, 2.3407304286956787), (3.876985102985248, 2.670888900756836), (4.310313237041598, 2.949211597442627)\n",
      "Minimum, Mean and Maximum RMSE/MAE for Testing Stations are: (3.412777726606036, 2.409334421157837), (3.77913083049322, 2.7551872730255127), (4.33056241477329, 3.220960855484009)\n",
      "Minimum, Mean and Maximum RMSE/MAE for Testing Stations are: (3.2225732411184325, 2.3598413467407227), (3.6363234095082353, 2.628476858139038), (4.105673163322117, 2.971999168395996)\n",
      "Minimum, Mean and Maximum RMSE/MAE for Testing Stations are: (3.2506330313763954, 2.4456987380981445), (3.839813822166878, 2.842639207839966), (4.319781803695989, 3.079951047897339)\n",
      "\n",
      "\n",
      "Minimum, Mean and Maximum RMSE/MAE for Testing Stations are: (2.606095680406721, 1.842820167541504), (3.18259905856489, 2.2648518085479736), (3.9106587669179182, 2.700509548187256)\n",
      "Minimum, Mean and Maximum RMSE/MAE for Testing Stations are: (2.5973128701323653, 1.9310272932052612), (3.092199225882975, 2.2474963665008545), (3.43625077176493, 2.4418065547943115)\n",
      "Minimum, Mean and Maximum RMSE/MAE for Testing Stations are: (2.9403038441395504, 2.140699863433838), (3.3283290173676585, 2.4294357299804688), (3.7340424840519795, 2.7588841915130615)\n",
      "Minimum, Mean and Maximum RMSE/MAE for Testing Stations are: (2.954106566369729, 2.135089159011841), (3.3867473315096586, 2.436889171600342), (3.738353317985117, 2.674835443496704)\n",
      "\n",
      "\n",
      "Minimum, Mean and Maximum RMSE/MAE for Testing Stations are: (3.536421643133763, 2.5807363986968994), (4.007164737339574, 2.8019020557403564), (4.562574203096827, 3.2237982749938965)\n",
      "Minimum, Mean and Maximum RMSE/MAE for Testing Stations are: (3.089045328604825, 2.299264907836914), (3.4623987286352054, 2.478149652481079), (3.7791385272463454, 2.718759536743164)\n",
      "Minimum, Mean and Maximum RMSE/MAE for Testing Stations are: (3.1912103637194233, 2.272167444229126), (3.520682126622446, 2.5688319206237793), (3.8932129858524887, 2.8094685077667236)\n",
      "Minimum, Mean and Maximum RMSE/MAE for Testing Stations are: (3.520515261998013, 2.5382721424102783), (3.7816530123234777, 2.6771631240844727), (4.139239615671853, 2.8660895824432373)\n"
     ]
    }
   ],
   "source": [
    "test_pred_orig_dict5 = predict(model5, test_tensors5, (norm_min5, norm_max5), device, stationlist = stations5)\n",
    "test_pred_orig_dict10 = predict(model10, test_tensors5, (norm_min5, norm_max5), device, stationlist = stations5)\n",
    "test_pred_orig_dict15 = predict(model15, test_tensors5, (norm_min5, norm_max5), device, stationlist = stations5)\n",
    "test_pred_orig_dict20 = predict(model20, test_tensors5, (norm_min5, norm_max5), device, stationlist = stations5)\n",
    "\n",
    "test_pred_orig_dict5_5WU = predict(model5IoT5WU, test_tensors5, (norm_min5, norm_max5), device, stationlist = stations5)\n",
    "test_pred_orig_dict10_5WU = predict(model10IoT5WU, test_tensors5, (norm_min5, norm_max5), device, stationlist = stations5)\n",
    "test_pred_orig_dict15_5WU = predict(model15IoT5WU, test_tensors5, (norm_min5, norm_max5), device, stationlist = stations5)\n",
    "test_pred_orig_dict20_5WU = predict(model20IoT5WU, test_tensors5, (norm_min5, norm_max5), device, stationlist = stations5)\n",
    "\n",
    "test_pred_orig_dict5_10WU = predict(model5IoT10WU, test_tensors10, (norm_min10, norm_max10), device, stationlist = stations5)\n",
    "test_pred_orig_dict10_10WU = predict(model10IoT10WU, test_tensors10, (norm_min10, norm_max10), device, stationlist = stations5)\n",
    "test_pred_orig_dict15_10WU = predict(model15IoT10WU, test_tensors10, (norm_min10, norm_max10), device, stationlist = stations5)\n",
    "test_pred_orig_dict20_10WU = predict(model20IoT10WU, test_tensors10, (norm_min10, norm_max10), device, stationlist = stations5)\n",
    "\n",
    "# Here, let's try to use a model to predict same observations normalized in other values different from train_tensors\n",
    "# test_pred_orig_dict5_10WU = predict(model5IoT10WU, test_tensors5, (norm_min5, norm_max5), device, stationlist = stations5)\n",
    "# test_pred_orig_dict10_10WU = predict(model10IoT10WU, test_tensors5, (norm_min5, norm_max5), device, stationlist = stations5)\n",
    "# test_pred_orig_dict15_10WU = predict(model15IoT10WU, test_tensors5, (norm_min5, norm_max5), device, stationlist = stations5)\n",
    "# test_pred_orig_dict20_10WU = predict(model20IoT10WU, test_tensors5, (norm_min5, norm_max5), device, stationlist = stations5)\n",
    "\n",
    "##################################\n",
    "_,_,_,_ = stat_scores(test_pred_orig_dict5)\n",
    "_,_,_,_ = stat_scores(test_pred_orig_dict10)\n",
    "_,_,_,_ = stat_scores(test_pred_orig_dict15)\n",
    "_,_,_,_ = stat_scores(test_pred_orig_dict20)\n",
    "print('\\n')\n",
    "_,_,_,_ = stat_scores(test_pred_orig_dict5_5WU)\n",
    "_,_,_,_ = stat_scores(test_pred_orig_dict10_5WU)\n",
    "_,_,_,_ = stat_scores(test_pred_orig_dict15_5WU)\n",
    "_,_,_,_ = stat_scores(test_pred_orig_dict20_5WU)\n",
    "print('\\n')\n",
    "_,_,_,_ = stat_scores(test_pred_orig_dict5_10WU)\n",
    "_,_,_,_ = stat_scores(test_pred_orig_dict10_10WU)\n",
    "_,_,_,_ = stat_scores(test_pred_orig_dict15_10WU)\n",
    "_,_,_,_ = stat_scores(test_pred_orig_dict20_10WU)"
   ]
  },
  {
   "cell_type": "code",
   "execution_count": 9,
   "metadata": {},
   "outputs": [
    {
     "name": "stdout",
     "output_type": "stream",
     "text": [
      "Minimum, Mean and Maximum RMSE/MAE for Testing Stations are: (2.974440732046452, 2.249952793121338), (3.8249538443778763, 2.7707934379577637), (4.33056241477329, 3.220960855484009)\n",
      "Minimum, Mean and Maximum RMSE/MAE for Testing Stations are: (2.585607501868186, 1.876233696937561), (3.097661483779469, 2.2609384059906006), (3.6585640390653125, 2.623060464859009)\n",
      "Minimum, Mean and Maximum RMSE/MAE for Testing Stations are: (2.9121404859798585, 2.116349935531616), (3.514823720535354, 2.5380074977874756), (3.8934851248645477, 2.842907428741455)\n",
      "\n",
      "\n",
      "Minimum, Mean and Maximum RMSE/MAE for Testing Stations are: (3.078525730131477, 2.3276076316833496), (3.7114140575993138, 2.7115671634674072), (4.407029103327788, 3.298968553543091)\n",
      "Minimum, Mean and Maximum RMSE/MAE for Testing Stations are: (2.7619946462039313, 2.0050010681152344), (3.337225564824772, 2.434685707092285), (4.157285632985604, 2.8132243156433105)\n",
      "Minimum, Mean and Maximum RMSE/MAE for Testing Stations are: (2.9121404859798585, 2.116349935531616), (3.514823720535354, 2.5380074977874756), (3.8934851248645477, 2.842907428741455)\n",
      "\n",
      "\n",
      "Minimum, Mean and Maximum RMSE/MAE for Testing Stations are: (2.982124158867529, 2.2328195571899414), (3.826829963704418, 2.8191559314727783), (4.6162763235466, 3.397221803665161)\n",
      "Minimum, Mean and Maximum RMSE/MAE for Testing Stations are: (2.8658134639754094, 2.109105348587036), (3.3831722077085757, 2.4622340202331543), (4.406208660391735, 3.266072988510132)\n",
      "Minimum, Mean and Maximum RMSE/MAE for Testing Stations are: (2.9121404859798585, 2.116349935531616), (3.514823720535354, 2.5380074977874756), (3.8934851248645477, 2.842907428741455)\n"
     ]
    }
   ],
   "source": [
    "test_pred_orig_dict10 = predict(model10, test_tensors5, (norm_min5, norm_max5), device, stationlist = stations10)\n",
    "test_pred_orig_dict10_5WU = predict(model10IoT5WU, test_tensors5, (norm_min5, norm_max5), device, stationlist = stations10)\n",
    "test_pred_orig_dict10_10WU = predict(model10IoT10WU, test_tensors10, (norm_min10, norm_max10), device, stationlist = stations10)\n",
    "\n",
    "test_pred_orig_dict15 = predict(model15, test_tensors5, (norm_min5, norm_max5), device, stationlist = stations15)\n",
    "test_pred_orig_dict15_5WU = predict(model15IoT5WU, test_tensors5, (norm_min5, norm_max5), device, stationlist = stations15)\n",
    "test_pred_orig_dict15_10WU = predict(model15IoT10WU, test_tensors10, (norm_min10, norm_max10), device, stationlist = stations15)\n",
    "\n",
    "test_pred_orig_dict20 = predict(model20, test_tensors5, (norm_min5, norm_max5), device, stationlist = stations20)\n",
    "test_pred_orig_dict20_5WU = predict(model20IoT5WU, test_tensors5, (norm_min5, norm_max5), device, stationlist = stations20)\n",
    "test_pred_orig_dict20_10WU = predict(model20IoT10WU, test_tensors10, (norm_min10, norm_max10), device, stationlist = stations20)\n",
    "\n",
    "##############################\n",
    "_,_,_,_ = stat_scores(test_pred_orig_dict10)\n",
    "_,_,_,_ = stat_scores(test_pred_orig_dict10_5WU)\n",
    "_,_,_,_ = stat_scores(test_pred_orig_dict10_10WU)\n",
    "print('\\n')\n",
    "_,_,_,_ = stat_scores(test_pred_orig_dict15)\n",
    "_,_,_,_= stat_scores(test_pred_orig_dict15_5WU)\n",
    "_,_,_,_ = stat_scores(test_pred_orig_dict10_10WU)\n",
    "print('\\n')\n",
    "_,_,_,_= stat_scores(test_pred_orig_dict20)\n",
    "_,_,_,_= stat_scores(test_pred_orig_dict20_5WU)\n",
    "_,_,_,_ = stat_scores(test_pred_orig_dict10_10WU)"
   ]
  },
  {
   "cell_type": "code",
   "execution_count": null,
   "metadata": {},
   "outputs": [],
   "source": []
  }
 ],
 "metadata": {
  "kernelspec": {
   "display_name": "Python 3",
   "language": "python",
   "name": "python3"
  },
  "language_info": {
   "codemirror_mode": {
    "name": "ipython",
    "version": 3
   },
   "file_extension": ".py",
   "mimetype": "text/x-python",
   "name": "python",
   "nbconvert_exporter": "python",
   "pygments_lexer": "ipython3",
   "version": "3.7.5"
  }
 },
 "nbformat": 4,
 "nbformat_minor": 4
}
