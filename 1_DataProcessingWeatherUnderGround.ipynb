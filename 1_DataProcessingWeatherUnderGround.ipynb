{
 "cells": [
  {
   "cell_type": "code",
   "execution_count": 1,
   "metadata": {},
   "outputs": [],
   "source": [
    "import numpy as np\n",
    "import os\n",
    "import pandas as pd\n",
    "import time\n",
    "from datetime import datetime, timedelta\n",
    "from concurrent.futures import ProcessPoolExecutor\n",
    "\n",
    "import sys\n",
    "script_path = os.path.abspath(\"pyscripts\")\n",
    "if script_path not in sys.path:\n",
    "    sys.path.append(script_path)\n",
    "from utils import *"
   ]
  },
  {
   "cell_type": "code",
   "execution_count": 2,
   "metadata": {
    "scrolled": true
   },
   "outputs": [
    {
     "name": "stdout",
     "output_type": "stream",
     "text": [
      "130\n"
     ]
    },
    {
     "data": {
      "text/plain": [
       "['/amethyst/s0/fbx5002/geolab_storage_V3/data/IoT_Temp/WeatherUndergound_NYC_stationfiles_2015-2020/KNJJERSE108.csv',\n",
       " '/amethyst/s0/fbx5002/geolab_storage_V3/data/IoT_Temp/WeatherUndergound_NYC_stationfiles_2015-2020/KNJJERSE118.csv']"
      ]
     },
     "execution_count": 2,
     "metadata": {},
     "output_type": "execute_result"
    }
   ],
   "source": [
    "folderpath =  '/amethyst/s0/fbx5002/geolab_storage_V3/data/IoT_Temp/WeatherUndergound_NYC_stationfiles_2015-2020/'\n",
    "weather_files = list(map(lambda f: folderpath + f, os.listdir(folderpath)))\n",
    "chunk_size = 20\n",
    "files_chunk = chunk_files(weather_files, chunk_size)\n",
    "print(len(weather_files)); files_chunk[1][:2]"
   ]
  },
  {
   "cell_type": "code",
   "execution_count": 3,
   "metadata": {},
   "outputs": [
    {
     "data": {
      "text/plain": [
       "130"
      ]
     },
     "execution_count": 3,
     "metadata": {},
     "output_type": "execute_result"
    }
   ],
   "source": [
    "weather_ground = {}\n",
    "with ProcessPoolExecutor(max_workers=4) as executor:\n",
    "    for ret in executor.map(read_weather_underground_files_2015_2020, files_chunk):\n",
    "        weather_ground.update(ret)\n",
    "len(weather_ground.keys())"
   ]
  },
  {
   "cell_type": "code",
   "execution_count": 4,
   "metadata": {
    "scrolled": false
   },
   "outputs": [
    {
     "name": "stdout",
     "output_type": "stream",
     "text": [
      "True\n",
      "2014-12-31 00:00:00 2020-09-13 23:00:00\n"
     ]
    }
   ],
   "source": [
    "# start: 2014-12-31 00:00:00  end: 2020-09-13 23:00:00\n",
    "print(all(list(map(lambda x: x['local_datetime'].iloc[0]=='2014-12-31 00:00:00' and\n",
    "         x['local_datetime'].iloc[-1]=='2020-09-13 23:00:00', weather_ground.values()))))\n",
    "\n",
    "start = datetime.strptime('2014-12-31 00:00:00', '%Y-%m-%d %H:%M:%S')\n",
    "end = datetime.strptime('2020-09-13 23:00:00', '%Y-%m-%d %H:%M:%S')\n",
    "diff = end-start\n",
    "hours = diff.days*24 + diff.seconds//3600  # how many hours should be there\n",
    "\n",
    "weather_time_2015_2020 = [start+ timedelta(hours=1*i) for i in range(hours+1)]\n",
    "print(weather_time_2015_2020[0], weather_time_2015_2020[-1])\n",
    "np.save('/media/fbx5002/CodeMonkey/IEE/IoT_Weather_Data/weather_time_2015_2020.npy', weather_time_2015_2020)"
   ]
  },
  {
   "cell_type": "code",
   "execution_count": 5,
   "metadata": {},
   "outputs": [
    {
     "name": "stdout",
     "output_type": "stream",
     "text": [
      "True\n"
     ]
    }
   ],
   "source": [
    "missing = continous_breakpoint(weather_ground['KCTSTAMF84']['local_datetime'], time_format ='%Y-%m-%d %H:%M:%S')\n",
    "len(weather_time_2015_2020) == weather_ground['KCTSTAMF84'].shape[0] + sum([x[1] for x in missing])"
   ]
  },
  {
   "cell_type": "code",
   "execution_count": 7,
   "metadata": {},
   "outputs": [
    {
     "name": "stdout",
     "output_type": "stream",
     "text": [
      "0.0007597568777991043 0.0007597568777991043\n"
     ]
    }
   ],
   "source": [
    "weather_station_2015_2020 = []\n",
    "missingratio_all = {}\n",
    "for station, data in weather_ground.items():\n",
    "    weather_station_2015_2020.append([station, data['lon'][0], data['lat'][0]])\n",
    "    missing = continous_breakpoint(data['local_datetime'], time_format ='%Y-%m-%d %H:%M:%S')\n",
    "    missingratio_all[station] = sum([x[1] for x in missing])/len(weather_time_2015_2020)\n",
    "\n",
    "min_ratio = missingratio_all[min(missingratio_all, key=lambda x: missingratio_all[x])]\n",
    "max_ratio = missingratio_all[max(missingratio_all, key=lambda x: missingratio_all[x])]\n",
    "print(min_ratio, max_ratio)\n",
    "\n",
    "weather_station_2015_2020 = pd.DataFrame(weather_station_2015_2020, columns = ['station', 'lon', 'lat'])\n",
    "weather_station_2015_2020.to_csv(\"/media/fbx5002/CodeMonkey/IEE/IoT_Weather_Data/weather_station_2015_2020.csv\", index=False)"
   ]
  },
  {
   "cell_type": "code",
   "execution_count": 7,
   "metadata": {},
   "outputs": [],
   "source": [
    "infos = {}\n",
    "for station, data in weather_ground.items():\n",
    "    tmp = data['local_datetime']\n",
    "    missing = continous_breakpoint(tmp, time_format ='%Y-%m-%d %H:%M:%S')\n",
    "    # change temperature to Celsius\n",
    "    data['temperature'] = (data['temperature'] -32)/1.8\n",
    "    infos[station] = fill_na_breakpoint(np.array(data['temperature']), missing)"
   ]
  },
  {
   "cell_type": "code",
   "execution_count": 8,
   "metadata": {},
   "outputs": [
    {
     "data": {
      "text/plain": [
       "True"
      ]
     },
     "execution_count": 8,
     "metadata": {},
     "output_type": "execute_result"
    }
   ],
   "source": [
    "all([len(x)==len(weather_time_2015_2020) for x in infos.values()])\n",
    "all(list(infos.keys()) == weather_station_2015_2020['station'])"
   ]
  },
  {
   "cell_type": "code",
   "execution_count": 9,
   "metadata": {},
   "outputs": [],
   "source": [
    "weather_obs_2015_2020 = np.array(list(infos.values()))\n",
    "np.save('/media/fbx5002/CodeMonkey/IEE/IoT_Weather_Data/weather_obs_2015_2020.npy', weather_obs_2015_2020)"
   ]
  }
 ],
 "metadata": {
  "kernelspec": {
   "display_name": "Python 3",
   "language": "python",
   "name": "python3"
  },
  "language_info": {
   "codemirror_mode": {
    "name": "ipython",
    "version": 3
   },
   "file_extension": ".py",
   "mimetype": "text/x-python",
   "name": "python",
   "nbconvert_exporter": "python",
   "pygments_lexer": "ipython3",
   "version": "3.7.5"
  }
 },
 "nbformat": 4,
 "nbformat_minor": 4
}
