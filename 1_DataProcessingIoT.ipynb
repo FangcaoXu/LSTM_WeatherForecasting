{
 "cells": [
  {
   "cell_type": "code",
   "execution_count": 1,
   "metadata": {},
   "outputs": [],
   "source": [
    "# LSTM for weather forecasting and time series implementation with regression framing\n",
    "import copy\n",
    "from concurrent.futures import ProcessPoolExecutor\n",
    "from datetime import datetime, timedelta\n",
    "from PIL import Image\n",
    "import matplotlib.pyplot as plt\n",
    "import numpy as np\n",
    "import os\n",
    "import pandas as pd\n",
    "from statistics import mean \n",
    "import time\n",
    "import seaborn as sns\n",
    "import sys\n",
    "script_path = os.path.abspath(\"pyscripts\")\n",
    "if script_path not in sys.path:\n",
    "    sys.path.append(script_path)\n",
    "from utils import *"
   ]
  },
  {
   "cell_type": "code",
   "execution_count": 2,
   "metadata": {},
   "outputs": [
    {
     "data": {
      "text/html": [
       "<div>\n",
       "<style scoped>\n",
       "    .dataframe tbody tr th:only-of-type {\n",
       "        vertical-align: middle;\n",
       "    }\n",
       "\n",
       "    .dataframe tbody tr th {\n",
       "        vertical-align: top;\n",
       "    }\n",
       "\n",
       "    .dataframe thead th {\n",
       "        text-align: right;\n",
       "    }\n",
       "</style>\n",
       "<table border=\"1\" class=\"dataframe\">\n",
       "  <thead>\n",
       "    <tr style=\"text-align: right;\">\n",
       "      <th></th>\n",
       "      <th>Unnamed: 0</th>\n",
       "      <th>Geohash</th>\n",
       "      <th>Latitude_SW</th>\n",
       "      <th>Longitude_SW</th>\n",
       "      <th>Latitude_NE</th>\n",
       "      <th>Longitude_NE</th>\n",
       "    </tr>\n",
       "  </thead>\n",
       "  <tbody>\n",
       "    <tr>\n",
       "      <th>0</th>\n",
       "      <td>0</td>\n",
       "      <td>dr5rgb7</td>\n",
       "      <td>40.73868</td>\n",
       "      <td>-74.01077</td>\n",
       "      <td>40.74005</td>\n",
       "      <td>-74.00940</td>\n",
       "    </tr>\n",
       "    <tr>\n",
       "      <th>1</th>\n",
       "      <td>1</td>\n",
       "      <td>dr72jhj</td>\n",
       "      <td>40.80322</td>\n",
       "      <td>-73.95309</td>\n",
       "      <td>40.80460</td>\n",
       "      <td>-73.95172</td>\n",
       "    </tr>\n",
       "    <tr>\n",
       "      <th>2</th>\n",
       "      <td>2</td>\n",
       "      <td>dr72ndy</td>\n",
       "      <td>40.79636</td>\n",
       "      <td>-73.88580</td>\n",
       "      <td>40.79773</td>\n",
       "      <td>-73.88443</td>\n",
       "    </tr>\n",
       "    <tr>\n",
       "      <th>3</th>\n",
       "      <td>3</td>\n",
       "      <td>dr72qpk</td>\n",
       "      <td>40.86502</td>\n",
       "      <td>-73.91052</td>\n",
       "      <td>40.86639</td>\n",
       "      <td>-73.90915</td>\n",
       "    </tr>\n",
       "    <tr>\n",
       "      <th>4</th>\n",
       "      <td>4</td>\n",
       "      <td>dr5r7vx</td>\n",
       "      <td>40.67963</td>\n",
       "      <td>-74.00528</td>\n",
       "      <td>40.68100</td>\n",
       "      <td>-74.00391</td>\n",
       "    </tr>\n",
       "  </tbody>\n",
       "</table>\n",
       "</div>"
      ],
      "text/plain": [
       "   Unnamed: 0  Geohash  Latitude_SW  Longitude_SW  Latitude_NE  Longitude_NE\n",
       "0           0  dr5rgb7     40.73868     -74.01077     40.74005     -74.00940\n",
       "1           1  dr72jhj     40.80322     -73.95309     40.80460     -73.95172\n",
       "2           2  dr72ndy     40.79636     -73.88580     40.79773     -73.88443\n",
       "3           3  dr72qpk     40.86502     -73.91052     40.86639     -73.90915\n",
       "4           4  dr5r7vx     40.67963     -74.00528     40.68100     -74.00391"
      ]
     },
     "metadata": {},
     "output_type": "display_data"
    },
    {
     "name": "stdout",
     "output_type": "stream",
     "text": [
      "36970\n"
     ]
    }
   ],
   "source": [
    "folderpath = '/amethyst/s0/fbx5002/geolab_storage_V3/data/IoT_Temp/Geotab_processed_NYC/'\n",
    "stationpath = folderpath +'uniqueNodes.csv'\n",
    "stations = pd.read_csv(stationpath)\n",
    "display(stations.head(5))\n",
    "\n",
    "station_ids = stations['Geohash']\n",
    "print(len(station_ids))"
   ]
  },
  {
   "cell_type": "code",
   "execution_count": 3,
   "metadata": {},
   "outputs": [
    {
     "name": "stdout",
     "output_type": "stream",
     "text": [
      "98.51388716697693\n"
     ]
    }
   ],
   "source": [
    "# 4 workers, 100 s \n",
    "start = time.time()\n",
    "infos = dict()\n",
    "with ProcessPoolExecutor(max_workers=4) as executor:\n",
    "    for info, station in executor.map(read_IoT_station, station_ids):\n",
    "        info = info[~info.duplicated('time')]\n",
    "        info = info[(info['time'] >= 2019050100) & (info['time'] <= 2020043023)]\n",
    "        infos[station] = [info['Temperature_C'].to_numpy(), info['time'].to_numpy()]\n",
    "end = time.time()\n",
    "print(end - start)"
   ]
  },
  {
   "cell_type": "code",
   "execution_count": 4,
   "metadata": {},
   "outputs": [],
   "source": [
    "# missing data ratio\n",
    "missingratio_all = dict()\n",
    "for key, values in infos.items():\n",
    "    missingratio_all[key] = 1- len(values[0])/8784"
   ]
  },
  {
   "cell_type": "code",
   "execution_count": 5,
   "metadata": {},
   "outputs": [
    {
     "name": "stdout",
     "output_type": "stream",
     "text": [
      "0.05248178506375223 1.0\n"
     ]
    }
   ],
   "source": [
    "min_ratio = missingratio_all[min(missingratio_all, key=lambda x: missingratio_all[x])]\n",
    "max_ratio = missingratio_all[max(missingratio_all, key=lambda x: missingratio_all[x])]\n",
    "print(min_ratio, max_ratio)"
   ]
  },
  {
   "cell_type": "code",
   "execution_count": 17,
   "metadata": {},
   "outputs": [
    {
     "data": {
      "text/plain": [
       "'/amethyst/s0/fbx5002/.pipenv/venvs/IEE-bu-mjJ5d/lib/python3.7/site-packages/matplotlib/mpl-data/matplotlibrc'"
      ]
     },
     "execution_count": 17,
     "metadata": {},
     "output_type": "execute_result"
    }
   ],
   "source": [
    "import matplotlib\n",
    "matplotlib.matplotlib_fname()"
   ]
  },
  {
   "cell_type": "code",
   "execution_count": 19,
   "metadata": {},
   "outputs": [
    {
     "data": {
      "image/png": "[encoded data removed]",
      "text/plain": [
       "<Figure size 504x360 with 1 Axes>"
      ]
     },
     "metadata": {
      "needs_background": "light"
     },
     "output_type": "display_data"
    }
   ],
   "source": [
    "plt.figure(figsize=(7,5))\n",
    "plt.hist(missingratio_all.values(), bins = 20, edgecolor = 'black')\n",
    "plt.xlabel('Missing Data Ratio')\n",
    "plt.ylabel('Count')\n",
    "# plt.title('Missing Data Ratio of IoT Stations')\n",
    "# plt.xticks(np.arange(0.0, 1.1, 0.1))\n",
    "# plt.xlim(0.04, 1.04)\n",
    "# plt.grid(True)\n",
    "plt.savefig('HistMissingRatio.jpeg', dpi=300)\n",
    "plt.show()"
   ]
  },
  {
   "cell_type": "code",
   "execution_count": 25,
   "metadata": {
    "scrolled": true
   },
   "outputs": [
    {
     "name": "stdout",
     "output_type": "stream",
     "text": [
      "454 842 1648 2560\n"
     ]
    }
   ],
   "source": [
    "keys5 = list(filter(lambda x: missingratio_all[x] <= 0.055, missingratio_all))\n",
    "keys6 = list(filter(lambda x: missingratio_all[x] <= 0.06, missingratio_all))\n",
    "keys10 = list(filter(lambda x: missingratio_all[x] <= 0.1, missingratio_all))\n",
    "keys20 = list(filter(lambda x: missingratio_all[x] <= 0.2, missingratio_all))\n",
    "print(len(keys5), len(keys6), len(keys10), len(keys20))"
   ]
  },
  {
   "cell_type": "code",
   "execution_count": null,
   "metadata": {},
   "outputs": [],
   "source": [
    "missingratio_sorted = sorted(missingratio_all, key = lambda x: missingratio_all[x])\n",
    "missingratio_all[missingratio_sorted[1000]]"
   ]
  }
 ],
 "metadata": {
  "kernelspec": {
   "display_name": "Python 3",
   "language": "python",
   "name": "python3"
  },
  "language_info": {
   "codemirror_mode": {
    "name": "ipython",
    "version": 3
   },
   "file_extension": ".py",
   "mimetype": "text/x-python",
   "name": "python",
   "nbconvert_exporter": "python",
   "pygments_lexer": "ipython3",
   "version": "3.7.5"
  }
 },
 "nbformat": 4,
 "nbformat_minor": 4
}
