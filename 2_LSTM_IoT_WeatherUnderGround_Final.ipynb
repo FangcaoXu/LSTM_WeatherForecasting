{
 "cells": [
  {
   "cell_type": "code",
   "execution_count": 1,
   "metadata": {},
   "outputs": [
    {
     "name": "stdout",
     "output_type": "stream",
     "text": [
      "CPU times: user 2.56 s, sys: 2.47 s, total: 5.03 s\n",
      "Wall time: 842 ms\n"
     ]
    }
   ],
   "source": [
    "%%time\n",
    "from concurrent.futures import ProcessPoolExecutor\n",
    "from datetime import datetime, timedelta\n",
    "import matplotlib.pyplot as plt\n",
    "import numpy as np\n",
    "import os\n",
    "import pandas as pd\n",
    "import random\n",
    "from statistics import mean \n",
    "import time\n",
    "import torch\n",
    "\n",
    "import sys\n",
    "script_path = os.path.abspath(\"pyscripts\")\n",
    "if script_path not in sys.path:\n",
    "    sys.path.append(script_path)\n",
    "from utils import *\n",
    "from load_data import *\n",
    "from lstm import *"
   ]
  },
  {
   "cell_type": "markdown",
   "metadata": {},
   "source": [
    "# 1. Parameters"
   ]
  },
  {
   "cell_type": "code",
   "execution_count": 2,
   "metadata": {},
   "outputs": [],
   "source": [
    "# time sequence\n",
    "train_window = 48\n",
    "input_size = 1\n",
    "output_size = 24\n",
    "hidden_size = 48\n",
    "num_layers = 2\n",
    "learning_rate = 0.005\n",
    "\n",
    "# use GPU if available\n",
    "device = torch.device(\"cuda\" if torch.cuda.is_available() else \"cpu\")"
   ]
  },
  {
   "cell_type": "markdown",
   "metadata": {},
   "source": [
    "# 2. Read Data"
   ]
  },
  {
   "cell_type": "code",
   "execution_count": 3,
   "metadata": {},
   "outputs": [],
   "source": [
    "obs = np.load('/home/graduate/fbx5002/disk10TB/IEE/IoT_Weather_Data/Geotab_Obs.npy')\n",
    "# swap rows and columns, obs = np.swapaxes(obs, 0, 1)\n",
    "obs = obs.T\n",
    "times = np.load('/home/graduate/fbx5002/disk10TB/IEE/IoT_Weather_Data/Geotab_Obs_TS.npy')\n",
    "times = [datetime.utcfromtimestamp(x.tolist()/1e9) for x in times]\n",
    "stations = pd.read_csv('/home/graduate/fbx5002/disk10TB/IEE/IoT_Weather_Data/selected_Geotab_stations.csv')\n",
    "stations = stations[stations.columns[[3,1,2,4]]]\n",
    "#stations_remove = np.load('/home/graduate/fbx5002/disk10TB/IEE/IoT_Weather_Data/stations_remove.npy')\n",
    "\n",
    "weather_station_2015_2020 = pd.read_csv(\"/home/graduate/fbx5002/disk10TB/IEE/IoT_Weather_Data/weather_station_2015_2020.csv\")\n",
    "weather_time_2015_2020 = np.load('/home/graduate/fbx5002/disk10TB/IEE/IoT_Weather_Data/weather_time_2015_2020.npy', allow_pickle=True)\n",
    "weather_obs_2015_2020 = np.load('/home/graduate/fbx5002/disk10TB/IEE/IoT_Weather_Data/weather_obs_2015_2020.npy')"
   ]
  },
  {
   "cell_type": "code",
   "execution_count": 4,
   "metadata": {},
   "outputs": [],
   "source": [
    "stations5 = set(stations.sort_values('missing')[:455]['geohash'])\n",
    "stations10= set(stations.sort_values('missing')[:1650]['geohash'])\n",
    "stations15= set(stations.sort_values('missing')[:2107]['geohash'])\n",
    "stations20= set(stations['geohash'])\n",
    "wu_stations = set(weather_station_2015_2020['station'])"
   ]
  },
  {
   "cell_type": "code",
   "execution_count": null,
   "metadata": {},
   "outputs": [],
   "source": [
    "after_missingratio = list(map(lambda x: sum(np.isnan(x))/8784, obs))\n",
    "print(\"The data shape of IoT and Weather_Underground data are %s, %s\" %(obs.shape, weather_obs_2015_2020.shape))\n",
    "print(\"The time length of IoT and Weather_Underground data are %s, %s\" % (len(times), len(weather_time_2015_2020)))\n",
    "print(\"Time window of IoT and Weather_Underground data are [%s, %s], [%s, %s]\" % \n",
    "      (times[0].strftime(\"%Y%m%d%H\"), times[-1].strftime(\"%Y%m%d%H\"), \n",
    "       weather_time_2015_2020[0].strftime(\"%Y%m%d\"), weather_time_2015_2020[-1].strftime(\"%Y%m%d\")))\n",
    "print(\"Original Minimum and Maximum Missing Data Ratio for IoT Stations are %s, %s\" % (min(stations['missing']), max(stations['missing'])))\n",
    "print(\"After Interpolation, Minimum and Maximum Missing Data Ratio for IoT Stations are %s, %s\" % (min(after_missingratio), max(after_missingratio)))\n",
    "print(stations.head(5)); print(weather_station_2015_2020.head(5))"
   ]
  },
  {
   "cell_type": "code",
   "execution_count": null,
   "metadata": {},
   "outputs": [],
   "source": [
    "# select days for testing\n",
    "test_times = []\n",
    "for _time in times:\n",
    "    if _time.hour > 0:\n",
    "        continue\n",
    "    test_times.append(datetime(_time.year, _time.month, _time.day, 0 , 0))\n",
    "random.seed(7)\n",
    "seq = [i for i in range(len(test_times))]\n",
    "random.shuffle(seq) # inplace shuffle\n",
    "test_times = np.array(sorted([test_times[i] for i in seq[:30]]))\n",
    "print(test_times)"
   ]
  },
  {
   "cell_type": "markdown",
   "metadata": {},
   "source": [
    "# 3. Create infos dict and Calculate min and max"
   ]
  },
  {
   "cell_type": "code",
   "execution_count": null,
   "metadata": {},
   "outputs": [],
   "source": [
    "infos = {}\n",
    "for i, station in enumerate(stations['geohash']):\n",
    "    infos[station] = obs[i]\n",
    "print(list(infos.items())[:2])\n",
    "\n",
    "# operations below will in-place rewrite infos variable\n",
    "norm_min = []\n",
    "norm_max = []\n",
    "for key, value in infos.items():\n",
    "    norm_min.append(min(value))\n",
    "    norm_max.append(max(value))\n",
    "# len(list(infos_filtered.items())[0][1]) # this is the station we used for the single station training\n",
    "norm_min = min(norm_min)\n",
    "norm_max = max(norm_max)\n",
    "print(\"The minimum and maximal temperatures for IoT stations are %.2f, %.2f\" %(norm_min, norm_max))"
   ]
  },
  {
   "cell_type": "code",
   "execution_count": null,
   "metadata": {},
   "outputs": [],
   "source": [
    "infos_w = {}\n",
    "for i, station in enumerate(weather_station_2015_2020['station']):\n",
    "    infos_w[station] = weather_obs_2015_2020[i]\n",
    "print(list(infos_w.items())[:2])\n",
    "\n",
    "# operations below will in-place rewrite infos variable\n",
    "norm_min_w = []\n",
    "norm_max_w = []\n",
    "for key, value in infos_w.items():\n",
    "    norm_min_w.append(min(value))\n",
    "    norm_max_w.append(max(value))\n",
    "# len(list(infos_filtered.items())[0][1]) # this is the station we used for the single station training\n",
    "norm_min_w = min(norm_min_w)\n",
    "norm_max_w = max(norm_max_w)\n",
    "print(\"The minimum and maximal temperatures for Weather Underground stations are %.2f, %.2f\" %(norm_min_w, norm_max_w))"
   ]
  },
  {
   "cell_type": "code",
   "execution_count": null,
   "metadata": {},
   "outputs": [],
   "source": [
    "norm_min = min(norm_min, norm_min_w)\n",
    "norm_max = max(norm_max, norm_max_w)\n",
    "print(norm_min, norm_max)"
   ]
  },
  {
   "cell_type": "markdown",
   "metadata": {},
   "source": [
    "# 4. Split data for test_day and train_day for IoT stations\n",
    "\n",
    "### key point\n",
    "- only need to make sure the 24 hours output for test_times not seen in the training dataset\n",
    "- the 48 hours input of test_times can be seen in the training dataset\n",
    "- weather underground stations all for training"
   ]
  },
  {
   "cell_type": "code",
   "execution_count": null,
   "metadata": {},
   "outputs": [],
   "source": [
    "test_time_range = []\n",
    "for testtime in test_times:\n",
    "    start = testtime - timedelta(hours = train_window)\n",
    "    end = testtime + timedelta(hours = output_size-1) # include itself\n",
    "    if end > times[-1]:\n",
    "        continue\n",
    "    test_time_range.append((start, end))\n",
    "    \n",
    "test_time_index = sorted([(times.index(x), times.index(y)) for x, y in test_time_range])\n",
    "removed_time_index = sorted([(times.index(x)+train_window, times.index(y)) for x, y in test_time_range])\n",
    "print(test_time_index[:5])\n",
    "print(removed_time_index[:5])"
   ]
  },
  {
   "cell_type": "code",
   "execution_count": null,
   "metadata": {},
   "outputs": [],
   "source": [
    "test_data = {}\n",
    "train_data = {}\n",
    "for key, data in list(infos.items()):\n",
    "    test, train = [], []\n",
    "    for test_time in test_time_index:\n",
    "        test.append(data[test_time[0]:(test_time[1]+1)])\n",
    "    \n",
    "    for i in range(len(removed_time_index)):\n",
    "        if i ==0:\n",
    "            end = removed_time_index[0][0]\n",
    "            train.append(data[:end])   \n",
    "        else:\n",
    "            start = removed_time_index[i-1][1]+1\n",
    "            end = removed_time_index[i][0]\n",
    "            train.append(data[start:end])\n",
    "    # add elements after last removed_time_index\n",
    "    start = removed_time_index[len(removed_time_index)-1][1]+1\n",
    "    train.append(data[start:])\n",
    "    # change to nparray\n",
    "    train_data[key] = train\n",
    "    test_data[key] = test\n",
    "\n",
    "#len(infos['dr72rzt'][0]) == len(train_data['dr72rzt'][0]) + len(test_data['dr72rzt'][0]) \n",
    "l1 = sum([len(x) for x in train_data['dr72rzt']])\n",
    "l2 = sum([y-x+1 for x, y in removed_time_index])\n",
    "print(l1, l2)\n",
    "l1+l2 == len(infos['dr72rzt'])"
   ]
  },
  {
   "cell_type": "markdown",
   "metadata": {},
   "source": [
    "# 5. Prepare training and test tensors"
   ]
  },
  {
   "cell_type": "code",
   "execution_count": null,
   "metadata": {},
   "outputs": [],
   "source": [
    "start = time.time()\n",
    "train_data.update(infos_w)\n",
    "train_tensors = Dataset(train_data, (norm_min, norm_max), train_window, output_size)\n",
    "end = time.time()\n",
    "print(end-start)\n",
    "print(\"Training input and output for a IoT station: %s, %s\" % (train_tensors[0][0].shape, train_tensors[0][1].shape))\n",
    "print(\"Validation input and output for a IoT station: %s, %s\" % (train_tensors[0][2].shape, train_tensors[0][3].shape))\n",
    "idx = train_tensors.keys.index('KNJCLIFF7')\n",
    "print(\"Training input and output for a weather station: %s, %s\" % (train_tensors[idx][0].shape, train_tensors[idx][1].shape))\n",
    "print(\"Validation input and output for a weather station: %s, %s\" % (train_tensors[idx][2].shape, train_tensors[idx][3].shape))"
   ]
  },
  {
   "cell_type": "code",
   "execution_count": null,
   "metadata": {
    "scrolled": true
   },
   "outputs": [],
   "source": [
    "start = time.time()\n",
    "test_tensors = DatasetTestDays(test_data, (norm_min, norm_max), train_window)\n",
    "end = time.time()\n",
    "print(end-start)\n",
    "print(\"Testing input and output for one IoT station: %s, %s\" % (test_tensors[0][0].shape, test_tensors[0][1].shape))"
   ]
  },
  {
   "cell_type": "code",
   "execution_count": null,
   "metadata": {},
   "outputs": [],
   "source": [
    "# three selected days have na values in their observations which cannot be predicted\n",
    "missing_days = np.unique(test_tensors.missing)\n",
    "print(missing_days)\n",
    "test_times = np.delete(test_times, missing_days)"
   ]
  },
  {
   "cell_type": "code",
   "execution_count": null,
   "metadata": {},
   "outputs": [],
   "source": [
    "db = {'train': train_tensors, 'test': test_tensors, 'selected_days': test_times}\n",
    "torch.save(db, './checkpoint/IoT_final/TensorData/Torch_db')"
   ]
  },
  {
   "cell_type": "markdown",
   "metadata": {},
   "source": [
    "# 6. Train LSTM "
   ]
  },
  {
   "cell_type": "code",
   "execution_count": 5,
   "metadata": {},
   "outputs": [
    {
     "name": "stdout",
     "output_type": "stream",
     "text": [
      "lstm.weight_ih_l0 torch.Size([192, 1])\n",
      "lstm.weight_hh_l0 torch.Size([192, 48])\n",
      "lstm.bias_ih_l0 torch.Size([192])\n",
      "lstm.bias_hh_l0 torch.Size([192])\n",
      "lstm.weight_ih_l1 torch.Size([192, 48])\n",
      "lstm.weight_hh_l1 torch.Size([192, 48])\n",
      "lstm.bias_ih_l1 torch.Size([192])\n",
      "lstm.bias_hh_l1 torch.Size([192])\n",
      "linear.weight torch.Size([24, 48])\n",
      "linear.bias torch.Size([24])\n",
      "[192, 9216, 192, 192, 9216, 9216, 192, 192, 1152, 24]\n"
     ]
    }
   ],
   "source": [
    "# To compute the number of trainable parameters\n",
    "# dir() or __dir__:return an alphabetized list of names comprising (some of) the attributes of the given object, and of attributes reachable from it\n",
    "# dir() or __dir__:return an alphabetized list of names comprising (some of) the attributes of the given object, and of attributes reachable from it\n",
    "# print(dir(list(model.parameters())[0]))\n",
    "_, model, _ = initial_model(input_size, output_size, hidden_size, num_layers, learning_rate, device)\n",
    "totalTrainable = []\n",
    "for name, p in model.named_parameters():\n",
    "    print(name, p.shape)\n",
    "    # total number of trainable parameters\n",
    "    if p.requires_grad:\n",
    "        totalTrainable.append(p.numel())\n",
    "    else:\n",
    "        totalTrainable.append(None)\n",
    "        \n",
    "print(totalTrainable)\n",
    "\n",
    "num_epochs = 101\n",
    "epoch_interval = 2"
   ]
  },
  {
   "cell_type": "code",
   "execution_count": null,
   "metadata": {},
   "outputs": [],
   "source": [
    "# initialize and train the model for 5.5%\n",
    "checkpoint_format = './checkpoint/IoT_final/checkpoint-5.5-{epoch}.pth.tar'\n",
    "loss_func, model, optimizer = initial_model(input_size, output_size, hidden_size, num_layers, learning_rate, device) \n",
    "Training(loss_func, model, optimizer, train_tensors, num_epochs, epoch_interval, checkpoint_format, device, stationlist = stations5)"
   ]
  },
  {
   "cell_type": "code",
   "execution_count": null,
   "metadata": {},
   "outputs": [],
   "source": [
    "# initialize and train the model for 10%\n",
    "checkpoint_format = './checkpoint/IoT_final/checkpoint-10-{epoch}.pth.tar'\n",
    "loss_func, model, optimizer = initial_model(input_size, output_size, hidden_size, num_layers, learning_rate, device) \n",
    "Training(loss_func, model, optimizer, train_tensors, num_epochs, epoch_interval, checkpoint_format, device, stationlist = stations10)"
   ]
  },
  {
   "cell_type": "code",
   "execution_count": null,
   "metadata": {},
   "outputs": [],
   "source": [
    "# initialize and train the model for 20%\n",
    "checkpoint_format = './checkpoint/IoT_final/checkpoint-20-{epoch}.pth.tar'\n",
    "loss_func, model, optimizer = initial_model(input_size, output_size, hidden_size, num_layers, learning_rate, device) \n",
    "Training(loss_func, model, optimizer, train_tensors, num_epochs, epoch_interval, checkpoint_format, \n",
    "         device, stationlist = stations20)"
   ]
  },
  {
   "cell_type": "code",
   "execution_count": null,
   "metadata": {},
   "outputs": [],
   "source": [
    "# initialize and train the model for 10%IoT+WU\n",
    "checkpoint_format = './checkpoint/IoT_final/checkpoint-IoT-W-{epoch}.pth.tar'\n",
    "loss_func, model, optimizer = initial_model(input_size, output_size, hidden_size, num_layers, learning_rate, device) \n",
    "Training(loss_func, model, optimizer, train_tensors, num_epochs, epoch_interval, checkpoint_format,\n",
    "         device, stationlist = stations10.union(wu_stations))"
   ]
  },
  {
   "cell_type": "markdown",
   "metadata": {},
   "source": [
    "# 7. Predict and Statistic Analysis_SplitByDay"
   ]
  },
  {
   "cell_type": "code",
   "execution_count": 7,
   "metadata": {},
   "outputs": [
    {
     "name": "stdout",
     "output_type": "stream",
     "text": [
      "-29.632716049382715 48.0\n",
      "Training input and output for a IoT station: torch.Size([4307, 48, 1]), torch.Size([4307, 24, 1])\n",
      "Validation input and output for a IoT station: torch.Size([479, 48, 1]), torch.Size([479, 24, 1])\n",
      "Training input and output for a weather station: torch.Size([78171, 48, 1]), torch.Size([78171, 24, 1])\n",
      "Validation input and output for a weather station: torch.Size([8686, 48, 1]), torch.Size([8686, 24, 1])\n"
     ]
    }
   ],
   "source": [
    "# read save data\n",
    "loaded = torch.load('./checkpoint/IoT_final/TensorData/Torch_db5WU')\n",
    "train_tensors = loaded['train']\n",
    "test_tensors = loaded['test']\n",
    "test_times = loaded['selected_days']\n",
    "norm_min, norm_max = train_tensors.min, train_tensors.max\n",
    "print(norm_min, norm_max)\n",
    "\n",
    "print(\"Training input and output for a IoT station: %s, %s\" % (train_tensors[0][0].shape, train_tensors[0][1].shape))\n",
    "print(\"Validation input and output for a IoT station: %s, %s\" % (train_tensors[0][2].shape, train_tensors[0][3].shape))\n",
    "idx = train_tensors.keys.index('KNJCLIFF7')\n",
    "print(\"Training input and output for a weather station: %s, %s\" % (train_tensors[idx][0].shape, train_tensors[idx][1].shape))\n",
    "print(\"Validation input and output for a weather station: %s, %s\" % (train_tensors[idx][2].shape, train_tensors[idx][3].shape))"
   ]
  },
  {
   "cell_type": "code",
   "execution_count": 7,
   "metadata": {},
   "outputs": [
    {
     "data": {
      "text/plain": [
       "<All keys matched successfully>"
      ]
     },
     "execution_count": 7,
     "metadata": {},
     "output_type": "execute_result"
    }
   ],
   "source": [
    "# read the saved model and use the best one for predicting\n",
    "checkpoint5 = torch.load('./checkpoint/IoT_final/checkpoint-5.5-{epoch}.pth.tar'.format(epoch=60))\n",
    "checkpoint10 = torch.load('./checkpoint/IoT_final/checkpoint-10-{epoch}.pth.tar'.format(epoch=23))\n",
    "checkpoint15 = torch.load('./checkpoint/IoT_final/checkpoint-15-{epoch}.pth.tar'.format(epoch=8))\n",
    "checkpoint20 = torch.load('./checkpoint/IoT_final/checkpoint-20-{epoch}.pth.tar'.format(epoch=7))\n",
    "checkpointIoTWU = torch.load('./checkpoint/IoT_final/checkpoint-IoT-W-{epoch}.pth.tar'.format(epoch=8))\n",
    "# initialize and train the model\n",
    "_, model5, _ = initial_model(input_size, output_size, hidden_size, num_layers, learning_rate, device)\n",
    "_, model10, _ = initial_model(input_size, output_size, hidden_size, num_layers, learning_rate, device)\n",
    "_, model15, _ = initial_model(input_size, output_size, hidden_size, num_layers, learning_rate, device)\n",
    "_, model20, _ = initial_model(input_size, output_size, hidden_size, num_layers, learning_rate, device)\n",
    "_, modelIoTWU, _ = initial_model(input_size, output_size, hidden_size, num_layers, learning_rate, device)\n",
    "model5.load_state_dict(checkpoint5['bestLossModel'])\n",
    "model10.load_state_dict(checkpoint10['bestLossModel'])\n",
    "model15.load_state_dict(checkpoint15['bestLossModel'])\n",
    "model20.load_state_dict(checkpoint20['bestLossModel'])\n",
    "modelIoTWU.load_state_dict(checkpointIoTWU['bestLossModel'])"
   ]
  },
  {
   "cell_type": "code",
   "execution_count": 8,
   "metadata": {
    "scrolled": true
   },
   "outputs": [
    {
     "data": {
      "text/plain": [
       "<function matplotlib.pyplot.show(close=None, block=None)>"
      ]
     },
     "execution_count": 8,
     "metadata": {},
     "output_type": "execute_result"
    },
    {
     "data": {
      "image/png": "[encoded data removed]",
      "text/plain": [
       "<Figure size 1440x288 with 4 Axes>"
      ]
     },
     "metadata": {
      "needs_background": "light"
     },
     "output_type": "display_data"
    }
   ],
   "source": [
    "checkpoints = [checkpoint5, checkpoint10, checkpoint15,checkpoint20]\n",
    "stations_ = [stations5, stations10, stations15, stations20]\n",
    "fig, axs = plt.subplots(1, 4, figsize=(20,4))\n",
    "for i, ax in enumerate(axs):   \n",
    "    ax.plot(meanLossEpoch(checkpoints[i]['train_loss'], len(stations_[i])))\n",
    "    ax.plot(meanLossEpoch(checkpoints[i]['test_loss'], len(stations_[i])))\n",
    "    ax.set_ylim([0, 0.0025])\n",
    "    ax.set_xlabel('Epoch')\n",
    "    ax.set_ylabel('Loss')\n",
    "    ax.legend([\"Training\", \"Validation\"])\n",
    "plt.savefig('LossThreeRatios.jpeg', dpi=300)\n",
    "plt.show "
   ]
  },
  {
   "cell_type": "markdown",
   "metadata": {},
   "source": [
    "## Compare four models on 5.5% stations"
   ]
  },
  {
   "cell_type": "code",
   "execution_count": 9,
   "metadata": {},
   "outputs": [
    {
     "name": "stdout",
     "output_type": "stream",
     "text": [
      "Minimum, Mean and Maximum RMSE/MAE for Testing Stations are: (3.4387644436254536, 2.3407304286956787), (3.876985102985248, 2.670888900756836), (4.310313237041598, 2.949211597442627)\n",
      "Minimum, Mean and Maximum RMSE/MAE for Testing Stations are: (3.412777726606036, 2.409334421157837), (3.77913083049322, 2.7551872730255127), (4.33056241477329, 3.220960855484009)\n",
      "Minimum, Mean and Maximum RMSE/MAE for Testing Stations are: (3.2225732411184325, 2.3598413467407227), (3.6363234095082353, 2.628476858139038), (4.105673163322117, 2.971999168395996)\n",
      "Minimum, Mean and Maximum RMSE/MAE for Testing Stations are: (3.2506330313763954, 2.4456987380981445), (3.839813822166878, 2.842639207839966), (4.319781803695989, 3.079951047897339)\n"
     ]
    }
   ],
   "source": [
    "test_pred_orig_dict5 = predict(model5, test_tensors, (norm_min, norm_max), device, stationlist = stations5)\n",
    "test_pred_orig_dict10 = predict(model10, test_tensors, (norm_min, norm_max), device, stationlist = stations5)\n",
    "test_pred_orig_dict15 = predict(model15, test_tensors, (norm_min, norm_max), device, stationlist = stations5)\n",
    "test_pred_orig_dict20 = predict(model20, test_tensors, (norm_min, norm_max), device, stationlist = stations5)\n",
    "# calculate root mean squared error\n",
    "testScores_stations5, test_min5, test_mean5, test_max5 = stat_scores(test_pred_orig_dict5)\n",
    "testScores_stations10, test_min10, test_mean10, test_max10 = stat_scores(test_pred_orig_dict10)\n",
    "testScores_stations15, test_min15, test_mean15, test_max15 = stat_scores(test_pred_orig_dict15)\n",
    "testScores_stations20, test_min20, test_mean20, test_max20= stat_scores(test_pred_orig_dict20)"
   ]
  },
  {
   "cell_type": "code",
   "execution_count": 10,
   "metadata": {},
   "outputs": [
    {
     "name": "stdout",
     "output_type": "stream",
     "text": [
      "Minimum, Mean and Maximum RMSE/MAE for Testing Stations are: (2.7145800126222066, 1.879504919052124), (3.0732030875134253, 2.123457431793213), (3.668009959874, 2.576258897781372)\n"
     ]
    }
   ],
   "source": [
    "test_pred_orig_dict = predict(modelIoTWU, test_tensors, (norm_min, norm_max), device, stationlist = stations5)\n",
    "# calculate root mean squared error\n",
    "testScores_stations, test_min, test_mean, test_max = stat_scores(test_pred_orig_dict)"
   ]
  },
  {
   "cell_type": "markdown",
   "metadata": {},
   "source": [
    "## Check Manzhu's result"
   ]
  },
  {
   "cell_type": "code",
   "execution_count": 6,
   "metadata": {},
   "outputs": [
    {
     "name": "stdout",
     "output_type": "stream",
     "text": [
      "-22.55 48.0\n",
      "-29.632716049382715 48.0\n"
     ]
    }
   ],
   "source": [
    "# two dataset used different norm_min, norm_max\n",
    "# read save data\n",
    "loaded5 = torch.load('./checkpoint/IoT_final/TensorData/Torch_db5WU')\n",
    "train_tensors5 = loaded5['train']\n",
    "test_tensors5 = loaded5['test']\n",
    "test_times5 = loaded5['selected_days']\n",
    "norm_min5, norm_max5 = train_tensors5.min, train_tensors5.max\n",
    "print(norm_min5, norm_max5)\n",
    "\n",
    "# read save data\n",
    "loaded10 = torch.load('./checkpoint/IoT_final/TensorData/Torch_db10WU')\n",
    "train_tensors10 = loaded10['train']\n",
    "test_tensors10 = loaded10['test']\n",
    "test_times10 = loaded10['selected_days']\n",
    "norm_min10, norm_max10 = train_tensors10.min, train_tensors10.max\n",
    "print(norm_min10, norm_max10)"
   ]
  },
  {
   "cell_type": "code",
   "execution_count": 7,
   "metadata": {},
   "outputs": [
    {
     "data": {
      "text/plain": [
       "<All keys matched successfully>"
      ]
     },
     "execution_count": 7,
     "metadata": {},
     "output_type": "execute_result"
    }
   ],
   "source": [
    "checkpoint5 = torch.load('./checkpoint/IoT_final/checkpoint-5.5-{epoch}.pth.tar'.format(epoch=60))\n",
    "checkpoint10 = torch.load('./checkpoint/IoT_final/checkpoint-10-{epoch}.pth.tar'.format(epoch=23))\n",
    "checkpoint15 = torch.load('./checkpoint/IoT_final/checkpoint-15-{epoch}.pth.tar'.format(epoch=8))\n",
    "checkpoint20 = torch.load('./checkpoint/IoT_final/checkpoint-20-{epoch}.pth.tar'.format(epoch=7))\n",
    "\n",
    "checkpoint5IoT5WU = torch.load('./checkpoint/IoT_final/checkpoint-5.5-IoT-5-W-{epoch}.pth.tar'.format(epoch=18))\n",
    "checkpoint10IoT5WU = torch.load('./checkpoint/IoT_final/checkpoint-10-IoT-5-W-{epoch}.pth.tar'.format(epoch=9))\n",
    "checkpoint15IoT5WU = torch.load('./checkpoint/IoT_final/checkpoint-15-IoT-5-W-{epoch}.pth.tar'.format(epoch=5))\n",
    "checkpoint20IoT5WU = torch.load('./checkpoint/IoT_final/checkpoint-20-IoT-5-W-{epoch}.pth.tar'.format(epoch=7))\n",
    "\n",
    "checkpoint5IoT10WU = torch.load('./checkpoint/IoT_final/checkpoint-5.5-IoT-10-W-{epoch}.pth.tar'.format(epoch=15))\n",
    "checkpoint10IoT10WU = torch.load('./checkpoint/IoT_final/checkpoint-10-IoT-10-W-{epoch}.pth.tar'.format(epoch=12))\n",
    "checkpoint15IoT10WU = torch.load('./checkpoint/IoT_final/checkpoint-15-IoT-10-W-{epoch}.pth.tar'.format(epoch=5))\n",
    "checkpoint20IoT10WU = torch.load('./checkpoint/IoT_final/checkpoint-20-IoT-10-W-{epoch}.pth.tar'.format(epoch=3))\n",
    "\n",
    "\n",
    "_, model5, _ = initial_model(input_size, output_size, hidden_size, num_layers, learning_rate, device)\n",
    "_, model10, _ = initial_model(input_size, output_size, hidden_size, num_layers, learning_rate, device)\n",
    "_, model15, _ = initial_model(input_size, output_size, hidden_size, num_layers, learning_rate, device)\n",
    "_, model20, _ = initial_model(input_size, output_size, hidden_size, num_layers, learning_rate, device)\n",
    "\n",
    "_, model5IoT5WU, _ = initial_model(input_size, output_size, hidden_size, num_layers, learning_rate, device)\n",
    "_, model10IoT5WU, _ = initial_model(input_size, output_size, hidden_size, num_layers, learning_rate, device)\n",
    "_, model15IoT5WU, _ = initial_model(input_size, output_size, hidden_size, num_layers, learning_rate, device)\n",
    "_, model20IoT5WU, _ = initial_model(input_size, output_size, hidden_size, num_layers, learning_rate, device)\n",
    "\n",
    "_, model5IoT10WU, _ = initial_model(input_size, output_size, hidden_size, num_layers, learning_rate, device)\n",
    "_, model10IoT10WU, _ = initial_model(input_size, output_size, hidden_size, num_layers, learning_rate, device)\n",
    "_, model15IoT10WU, _ = initial_model(input_size, output_size, hidden_size, num_layers, learning_rate, device)\n",
    "_, model20IoT10WU, _ = initial_model(input_size, output_size, hidden_size, num_layers, learning_rate, device)\n",
    "\n",
    "\n",
    "model5.load_state_dict(checkpoint5['bestLossModel'])\n",
    "model10.load_state_dict(checkpoint10['bestLossModel'])\n",
    "model15.load_state_dict(checkpoint15['bestLossModel'])\n",
    "model20.load_state_dict(checkpoint20['bestLossModel'])\n",
    "\n",
    "model5IoT5WU.load_state_dict(checkpoint5IoT5WU['bestLossModel'])\n",
    "model10IoT5WU.load_state_dict(checkpoint10IoT5WU['bestLossModel'])\n",
    "model15IoT5WU.load_state_dict(checkpoint15IoT5WU['bestLossModel'])\n",
    "model20IoT5WU.load_state_dict(checkpoint20IoT5WU['bestLossModel'])\n",
    "\n",
    "model5IoT10WU.load_state_dict(checkpoint5IoT10WU['bestLossModel'])\n",
    "model10IoT10WU.load_state_dict(checkpoint10IoT10WU['bestLossModel'])\n",
    "model15IoT10WU.load_state_dict(checkpoint15IoT10WU['bestLossModel'])\n",
    "model20IoT10WU.load_state_dict(checkpoint20IoT10WU['bestLossModel'])"
   ]
  },
  {
   "cell_type": "markdown",
   "metadata": {},
   "source": [
    "testScores_stations5, test_min5, test_mean5, test_max5 = stat_scores(test_pred_orig_dict5)\n",
    "testScores_stations10, test_min10, test_mean10, test_max10 = stat_scores(test_pred_orig_dict10)\n",
    "testScores_stations15, test_min15, test_mean15, test_max15 = stat_scores(test_pred_orig_dict15)\n",
    "testScores_stations20, test_min20, test_mean20, test_max20= stat_scores(test_pred_orig_dict20)\n",
    "print('\\n')\n",
    "testScores_stations5_5WU, test_min5_5WU, test_mean5_5WU, test_max5_5WU = stat_scores(test_pred_orig_dict5_5WU)\n",
    "testScores_stations10_5WU, test_min10_5WU, test_mean10_5WU, test_max10_5WU = stat_scores(test_pred_orig_dict10_5WU)\n",
    "testScores_stations15_5WU, test_min15_5WU, test_mean15_5WU, test_max15_5WU = stat_scores(test_pred_orig_dict15_5WU)\n",
    "testScores_stations20_5WU, test_min20_5WU, test_mean20_5WU, test_max20_5WU= stat_scores(test_pred_orig_dict20_5WU)\n",
    "print('\\n')\n",
    "testScores_stations5_10WU, test_min5_10WU, test_mean5_10WU, test_max5_10WU = stat_scores(test_pred_orig_dict5_10WU)\n",
    "testScores_stations10_10WU, test_min10_10WU, test_mean10_10WU, test_max10_10WU = stat_scores(test_pred_orig_dict10_10WU)\n",
    "testScores_stations15_10WU, test_min15_10WU, test_mean15_10WU, test_max15_10WU = stat_scores(test_pred_orig_dict15_10WU)\n",
    "testScores_stations20_10WU, test_min20_10WU, test_mean20_10WU, test_max20_10WU= stat_scores(test_pred_orig_dict20_10WU)"
   ]
  },
  {
   "cell_type": "code",
   "execution_count": 8,
   "metadata": {},
   "outputs": [
    {
     "name": "stdout",
     "output_type": "stream",
     "text": [
      "Minimum, Mean and Maximum RMSE/MAE for Testing Stations are: (3.4387644436254536, 2.3407304286956787), (3.876985102985248, 2.670888900756836), (4.310313237041598, 2.949211597442627)\n",
      "Minimum, Mean and Maximum RMSE/MAE for Testing Stations are: (3.412777726606036, 2.409334421157837), (3.77913083049322, 2.7551872730255127), (4.33056241477329, 3.220960855484009)\n",
      "Minimum, Mean and Maximum RMSE/MAE for Testing Stations are: (3.2225732411184325, 2.3598413467407227), (3.6363234095082353, 2.628476858139038), (4.105673163322117, 2.971999168395996)\n",
      "Minimum, Mean and Maximum RMSE/MAE for Testing Stations are: (3.2506330313763954, 2.4456987380981445), (3.839813822166878, 2.842639207839966), (4.319781803695989, 3.079951047897339)\n",
      "\n",
      "\n",
      "Minimum, Mean and Maximum RMSE/MAE for Testing Stations are: (2.606095680406721, 1.842820167541504), (3.18259905856489, 2.2648518085479736), (3.9106587669179182, 2.700509548187256)\n",
      "Minimum, Mean and Maximum RMSE/MAE for Testing Stations are: (2.5973128701323653, 1.9310272932052612), (3.092199225882975, 2.2474963665008545), (3.43625077176493, 2.4418065547943115)\n",
      "Minimum, Mean and Maximum RMSE/MAE for Testing Stations are: (2.9403038441395504, 2.140699863433838), (3.3283290173676585, 2.4294357299804688), (3.7340424840519795, 2.7588841915130615)\n",
      "Minimum, Mean and Maximum RMSE/MAE for Testing Stations are: (2.954106566369729, 2.135089159011841), (3.3867473315096586, 2.436889171600342), (3.738353317985117, 2.674835443496704)\n",
      "\n",
      "\n",
      "Minimum, Mean and Maximum RMSE/MAE for Testing Stations are: (3.536421643133763, 2.5807363986968994), (4.007164737339574, 2.8019020557403564), (4.562574203096827, 3.2237982749938965)\n",
      "Minimum, Mean and Maximum RMSE/MAE for Testing Stations are: (3.089045328604825, 2.299264907836914), (3.4623987286352054, 2.478149652481079), (3.7791385272463454, 2.718759536743164)\n",
      "Minimum, Mean and Maximum RMSE/MAE for Testing Stations are: (3.1912103637194233, 2.272167444229126), (3.520682126622446, 2.5688319206237793), (3.8932129858524887, 2.8094685077667236)\n",
      "Minimum, Mean and Maximum RMSE/MAE for Testing Stations are: (3.520515261998013, 2.5382721424102783), (3.7816530123234777, 2.6771631240844727), (4.139239615671853, 2.8660895824432373)\n"
     ]
    }
   ],
   "source": [
    "test_pred_orig_dict5 = predict(model5, test_tensors5, (norm_min5, norm_max5), device, stationlist = stations5)\n",
    "test_pred_orig_dict10 = predict(model10, test_tensors5, (norm_min5, norm_max5), device, stationlist = stations5)\n",
    "test_pred_orig_dict15 = predict(model15, test_tensors5, (norm_min5, norm_max5), device, stationlist = stations5)\n",
    "test_pred_orig_dict20 = predict(model20, test_tensors5, (norm_min5, norm_max5), device, stationlist = stations5)\n",
    "\n",
    "test_pred_orig_dict5_5WU = predict(model5IoT5WU, test_tensors5, (norm_min5, norm_max5), device, stationlist = stations5)\n",
    "test_pred_orig_dict10_5WU = predict(model10IoT5WU, test_tensors5, (norm_min5, norm_max5), device, stationlist = stations5)\n",
    "test_pred_orig_dict15_5WU = predict(model15IoT5WU, test_tensors5, (norm_min5, norm_max5), device, stationlist = stations5)\n",
    "test_pred_orig_dict20_5WU = predict(model20IoT5WU, test_tensors5, (norm_min5, norm_max5), device, stationlist = stations5)\n",
    "\n",
    "test_pred_orig_dict5_10WU = predict(model5IoT10WU, test_tensors10, (norm_min10, norm_max10), device, stationlist = stations5)\n",
    "test_pred_orig_dict10_10WU = predict(model10IoT10WU, test_tensors10, (norm_min10, norm_max10), device, stationlist = stations5)\n",
    "test_pred_orig_dict15_10WU = predict(model15IoT10WU, test_tensors10, (norm_min10, norm_max10), device, stationlist = stations5)\n",
    "test_pred_orig_dict20_10WU = predict(model20IoT10WU, test_tensors10, (norm_min10, norm_max10), device, stationlist = stations5)\n",
    "\n",
    "# test_pred_orig_dict5_10WU = predict(model5IoT10WU, test_tensors5, (norm_min5, norm_max5), device, stationlist = stations5)\n",
    "# test_pred_orig_dict10_10WU = predict(model10IoT10WU, test_tensors5, (norm_min5, norm_max5), device, stationlist = stations5)\n",
    "# test_pred_orig_dict15_10WU = predict(model15IoT10WU, test_tensors5, (norm_min5, norm_max5), device, stationlist = stations5)\n",
    "# test_pred_orig_dict20_10WU = predict(model20IoT10WU, test_tensors5, (norm_min5, norm_max5), device, stationlist = stations5)\n",
    "\n",
    "##################################\n",
    "_,_,_,_ = stat_scores(test_pred_orig_dict5)\n",
    "_,_,_,_ = stat_scores(test_pred_orig_dict10)\n",
    "_,_,_,_ = stat_scores(test_pred_orig_dict15)\n",
    "_,_,_,_ = stat_scores(test_pred_orig_dict20)\n",
    "print('\\n')\n",
    "_,_,_,_ = stat_scores(test_pred_orig_dict5_5WU)\n",
    "_,_,_,_ = stat_scores(test_pred_orig_dict10_5WU)\n",
    "_,_,_,_ = stat_scores(test_pred_orig_dict15_5WU)\n",
    "_,_,_,_ = stat_scores(test_pred_orig_dict20_5WU)\n",
    "print('\\n')\n",
    "_,_,_,_ = stat_scores(test_pred_orig_dict5_10WU)\n",
    "_,_,_,_ = stat_scores(test_pred_orig_dict10_10WU)\n",
    "_,_,_,_ = stat_scores(test_pred_orig_dict15_10WU)\n",
    "_,_,_,_ = stat_scores(test_pred_orig_dict20_10WU)"
   ]
  },
  {
   "cell_type": "code",
   "execution_count": 9,
   "metadata": {},
   "outputs": [
    {
     "name": "stdout",
     "output_type": "stream",
     "text": [
      "Minimum, Mean and Maximum RMSE/MAE for Testing Stations are: (2.974440732046452, 2.249952793121338), (3.8249538443778763, 2.7707934379577637), (4.33056241477329, 3.220960855484009)\n",
      "Minimum, Mean and Maximum RMSE/MAE for Testing Stations are: (2.585607501868186, 1.876233696937561), (3.097661483779469, 2.2609384059906006), (3.6585640390653125, 2.623060464859009)\n",
      "Minimum, Mean and Maximum RMSE/MAE for Testing Stations are: (2.9121404859798585, 2.116349935531616), (3.514823720535354, 2.5380074977874756), (3.8934851248645477, 2.842907428741455)\n",
      "\n",
      "\n",
      "Minimum, Mean and Maximum RMSE/MAE for Testing Stations are: (3.078525730131477, 2.3276076316833496), (3.7114140575993138, 2.7115671634674072), (4.407029103327788, 3.298968553543091)\n",
      "Minimum, Mean and Maximum RMSE/MAE for Testing Stations are: (2.7619946462039313, 2.0050010681152344), (3.337225564824772, 2.434685707092285), (4.157285632985604, 2.8132243156433105)\n",
      "Minimum, Mean and Maximum RMSE/MAE for Testing Stations are: (2.9121404859798585, 2.116349935531616), (3.514823720535354, 2.5380074977874756), (3.8934851248645477, 2.842907428741455)\n",
      "\n",
      "\n",
      "Minimum, Mean and Maximum RMSE/MAE for Testing Stations are: (2.982124158867529, 2.2328195571899414), (3.826829963704418, 2.8191559314727783), (4.6162763235466, 3.397221803665161)\n",
      "Minimum, Mean and Maximum RMSE/MAE for Testing Stations are: (2.8658134639754094, 2.109105348587036), (3.3831722077085757, 2.4622340202331543), (4.406208660391735, 3.266072988510132)\n",
      "Minimum, Mean and Maximum RMSE/MAE for Testing Stations are: (2.9121404859798585, 2.116349935531616), (3.514823720535354, 2.5380074977874756), (3.8934851248645477, 2.842907428741455)\n"
     ]
    }
   ],
   "source": [
    "test_pred_orig_dict10 = predict(model10, test_tensors5, (norm_min5, norm_max5), device, stationlist = stations10)\n",
    "test_pred_orig_dict10_5WU = predict(model10IoT5WU, test_tensors5, (norm_min5, norm_max5), device, stationlist = stations10)\n",
    "test_pred_orig_dict10_10WU = predict(model10IoT10WU, test_tensors10, (norm_min10, norm_max10), device, stationlist = stations10)\n",
    "\n",
    "test_pred_orig_dict15 = predict(model15, test_tensors5, (norm_min5, norm_max5), device, stationlist = stations15)\n",
    "test_pred_orig_dict15_5WU = predict(model15IoT5WU, test_tensors5, (norm_min5, norm_max5), device, stationlist = stations15)\n",
    "test_pred_orig_dict15_10WU = predict(model15IoT10WU, test_tensors10, (norm_min10, norm_max10), device, stationlist = stations15)\n",
    "\n",
    "test_pred_orig_dict20 = predict(model20, test_tensors5, (norm_min5, norm_max5), device, stationlist = stations20)\n",
    "test_pred_orig_dict20_5WU = predict(model20IoT5WU, test_tensors5, (norm_min5, norm_max5), device, stationlist = stations20)\n",
    "test_pred_orig_dict20_10WU = predict(model20IoT10WU, test_tensors10, (norm_min10, norm_max10), device, stationlist = stations20)\n",
    "\n",
    "##############################\n",
    "_,_,_,_ = stat_scores(test_pred_orig_dict10)\n",
    "_,_,_,_ = stat_scores(test_pred_orig_dict10_5WU)\n",
    "_,_,_,_ = stat_scores(test_pred_orig_dict10_10WU)\n",
    "print('\\n')\n",
    "_,_,_,_ = stat_scores(test_pred_orig_dict15)\n",
    "_,_,_,_= stat_scores(test_pred_orig_dict15_5WU)\n",
    "_,_,_,_ = stat_scores(test_pred_orig_dict10_10WU)\n",
    "print('\\n')\n",
    "_,_,_,_= stat_scores(test_pred_orig_dict20)\n",
    "_,_,_,_= stat_scores(test_pred_orig_dict20_5WU)\n",
    "_,_,_,_ = stat_scores(test_pred_orig_dict10_10WU)"
   ]
  },
  {
   "cell_type": "code",
   "execution_count": null,
   "metadata": {},
   "outputs": [],
   "source": []
  },
  {
   "cell_type": "code",
   "execution_count": null,
   "metadata": {},
   "outputs": [],
   "source": []
  },
  {
   "cell_type": "code",
   "execution_count": null,
   "metadata": {},
   "outputs": [],
   "source": [
    "# # ##### plot baseline and predictions for test station having max RMSE\n",
    "# # fig, axs = plt.subplots(5, 5, sharex=True, sharey=True, figsize=(14,10))\n",
    "# # i  =0\n",
    "# # for row in axs:\n",
    "# #     for col in row:\n",
    "# #         col.plot(test_pred_orig_dict[test_mean][1][i]) # original\n",
    "# #         col.plot(test_pred_orig_dict[test_mean][0][i], '--') # predicted\n",
    "# #         i+=1\n",
    "\n",
    "# errors_rmse = list(map(lambda x, y : math.sqrt(mean_squared_error(x, y)), \n",
    "#                                 test_pred_orig_dict[test_mean][0],test_pred_orig_dict[test_mean][1]))\n",
    "# errors_mae = list(map(lambda x, y : mean(abs(x- y).numpy()), \n",
    "#                                 test_pred_orig_dict[test_mean][0],test_pred_orig_dict[test_mean][1]))\n",
    "# print(sorted(errors_rmse, reverse=True))\n",
    "# print(sorted(errors_mae, reverse=True))\n",
    "# print(\"\\n\")\n",
    "# print(\"Average RMSE over 27 selected days is %s\" % mean(errors_rmse))\n",
    "# idx = [i for i, error in enumerate(errors_rmse) if error > 1.5*mean(errors_rmse)]\n",
    "# outlier_times = sorted([test_times[i] for i in idx])\n",
    "# print(outlier_times)\n",
    "\n",
    "# weights = np.ones_like(errors_rmse) / (len(errors_rmse))\n",
    "# fig, (ax1, ax2) = plt.subplots(1,2, figsize=(14,5))\n",
    "# ax1.hist(errors_rmse, bins = 20, range=(0.5, 8), edgecolor = 'black', weights= weights)\n",
    "# ax1.set_xlabel('Average RMSE for Each Selected Day')\n",
    "# ax1.set_ylabel('Percentage')\n",
    "# ax1.set_ylim(0, 0.3)\n",
    "# ax2.hist(errors_mae, bins = 20, range=(0.5, 8), edgecolor = 'black', weights= weights)\n",
    "# ax2.set_xlabel('Average MAE for Each Selected Day')\n",
    "# ax2.set_ylabel('Percentage')\n",
    "# plt.savefig('HistRMSEDays.jpeg', dpi=300)\n",
    "# plt.show()\n",
    "\n",
    "# testScores_stations = dict()\n",
    "# idx = [error < 1.5*mean(errors_rmse) for error in errors_rmse]\n",
    "# testScores_stations, test_min_, test_mean_, test_max_  = stat_scores(test_pred_orig_dict, idx)\n",
    "# print(\"Test Stations with min, mean and max RMSE are %s, %s, %s\" % (test_min_, test_mean_, test_max_))\n",
    "\n",
    "# # mae over predicted time points for test station with mean error\n",
    "# over_time_mae = np.mean(abs(test_pred_orig_dict[test_mean][0][idx] - test_pred_orig_dict[test_mean][1][idx]).numpy(), axis =0)\n",
    "# print(over_time_mae)\n",
    "# plt.plot(over_time_mae)\n",
    "# plt.show()"
   ]
  },
  {
   "cell_type": "markdown",
   "metadata": {},
   "source": [
    "## Compare model10 and model IoTWU to predict on 10% stations"
   ]
  },
  {
   "cell_type": "code",
   "execution_count": null,
   "metadata": {},
   "outputs": [],
   "source": [
    "test_pred_orig_dict10 = predict(model10, test_tensors, (norm_min, norm_max), device, stationlist = stations10)\n",
    "# calculate root mean squared error\n",
    "testScores_stations10, test_min10, test_mean10, test_max10 = stat_scores(test_pred_orig_dict10)\n",
    "\n",
    "test_pred_orig_dict = predict(modelIoTWU, test_tensors, (norm_min, norm_max), device, stationlist = stations10)\n",
    "# calculate root mean squared error\n",
    "testScores_stations, test_min, test_mean, test_max = stat_scores(test_pred_orig_dict)"
   ]
  },
  {
   "cell_type": "code",
   "execution_count": null,
   "metadata": {},
   "outputs": [],
   "source": [
    "errors_rmse = list(map(lambda x, y : math.sqrt(mean_squared_error(x, y)), \n",
    "                                test_pred_orig_dict[test_mean][0],test_pred_orig_dict[test_mean][1]))\n",
    "errors_mae = list(map(lambda x, y : mean(abs(x- y).numpy()), \n",
    "                                test_pred_orig_dict[test_mean][0],test_pred_orig_dict[test_mean][1]))\n",
    "print(sorted([(errors_rmse[i], test_times[i]) for i in range(len(test_times))], reverse=True))\n",
    "print(sorted([(errors_mae[i], test_times[i]) for i in range(len(test_times))], reverse=True))\n",
    "print(\"\\n\")\n",
    "print(\"Average RMSE over 27 selected days is %s\" % mean(errors_rmse))\n",
    "\n",
    "idx = [i for i, error in enumerate(errors_rmse) if error > 1.5*mean(errors_rmse)]\n",
    "outlier_times = sorted([(test_times[i], errors_rmse[i]) for i in idx])\n",
    "print(idx, outlier_times)"
   ]
  },
  {
   "cell_type": "code",
   "execution_count": null,
   "metadata": {},
   "outputs": [],
   "source": [
    "weights = np.ones_like(errors_rmse) / (len(errors_rmse))\n",
    "fig, (ax1, ax2) = plt.subplots(1,2, figsize=(14,5))\n",
    "ax1.hist(errors_rmse, bins = 20, range=(0.5, 9), edgecolor = 'black', weights= weights)\n",
    "ax1.set_xlabel('Average RMSE for Each Selected Day')\n",
    "ax1.set_ylabel('Percentage')\n",
    "ax1.set_ylim(0, 0.27)\n",
    "ax2.hist(errors_mae, bins = 20, range=(0.5, 9), edgecolor = 'black', weights= weights)\n",
    "ax2.set_xlabel('Average MAE for Each Selected Day')\n",
    "ax2.set_ylabel('Percentage')\n",
    "ax1.set_ylim(0, 0.27)\n",
    "plt.savefig('HistRMSEDays.jpeg', dpi=300)\n",
    "plt.show()"
   ]
  },
  {
   "cell_type": "code",
   "execution_count": null,
   "metadata": {},
   "outputs": [],
   "source": [
    "testScores_stations = dict()\n",
    "idx = [error < 1.5*mean(errors_rmse) for error in errors_rmse]\n",
    "testScores_stations, test_min_, test_mean_, test_max_  = stat_scores(test_pred_orig_dict, idx)\n",
    "print(\"Test Stations with min, mean and max RMSE are %s, %s, %s\" % (test_min_, test_mean_, test_max_))"
   ]
  },
  {
   "cell_type": "markdown",
   "metadata": {},
   "source": [
    "# save predicted result to nparray"
   ]
  },
  {
   "cell_type": "code",
   "execution_count": null,
   "metadata": {},
   "outputs": [],
   "source": [
    "# test_stations are not shuffled\n",
    "outputStations = stations[stations['geohash'].isin(list(test_pred_orig_dict.keys()))]\n",
    "list(outputStations['geohash'])== list(test_pred_orig_dict.keys())"
   ]
  },
  {
   "cell_type": "code",
   "execution_count": null,
   "metadata": {},
   "outputs": [],
   "source": [
    "outputStations.to_csv('/media/fbx5002/CodeMonkey/IEE/IoT_Weather_Data/deliverables/stations.csv', index=False)\n",
    "\n",
    "np.save('/media/fbx5002/CodeMonkey/IEE/IoT_Weather_Data/deliverables/selectedDates.npy', test_times)\n",
    "np.save('/media/fbx5002/CodeMonkey/IEE/IoT_Weather_Data/deliverables/predictions.npy', \n",
    "        np.array([x[0].numpy() for x in list(test_pred_orig_dict.values())]))\n",
    "np.save('/media/fbx5002/CodeMonkey/IEE/IoT_Weather_Data/deliverables/observations.npy', \n",
    "        np.array([x[1].numpy() for x in list(test_pred_orig_dict.values())]))"
   ]
  },
  {
   "cell_type": "code",
   "execution_count": null,
   "metadata": {},
   "outputs": [],
   "source": []
  },
  {
   "cell_type": "markdown",
   "metadata": {},
   "source": [
    "# 7. Prepare training and test tensors splitted by stations, Train LSTM"
   ]
  },
  {
   "cell_type": "code",
   "execution_count": null,
   "metadata": {},
   "outputs": [],
   "source": [
    "train_stations = list(infos.keys())[:int(len(infos) * 0.7)]\n",
    "test_stations =  list(infos.keys())[int(len(infos) * 0.7):]\n",
    "train_data = {key:infos[key] for key in train_stations}\n",
    "test_data = {key:infos[key] for key in test_stations}\n",
    "\n",
    "test_data_s = {}\n",
    "for key, data in list(test_data.items()):\n",
    "    test = []\n",
    "    for test_time in test_time_index:\n",
    "        test.append(data[test_time[0]:(test_time[1]+1)])\n",
    "    test_data_s[key] = test"
   ]
  },
  {
   "cell_type": "code",
   "execution_count": null,
   "metadata": {},
   "outputs": [],
   "source": [
    "start = time.time()\n",
    "train_tensors = Dataset(train_data, (norm_min, norm_max), train_window, output_size)\n",
    "test_tensors = Dataset(test_data, (norm_min, norm_max), train_window, output_size, test=True)\n",
    "end = time.time()\n",
    "print(end-start)\n",
    "print(\"Training input and output for one station: %s, %s\" % (train_tensors[0][0].shape, train_tensors[0][1].shape))\n",
    "print(\"Validation input and output for one station: %s, %s\" % (train_tensors[0][2].shape, train_tensors[0][3].shape))\n",
    "print(\"Testing input and output for one station: %s, %s\" % (test_tensors[0][0].shape, test_tensors[0][1].shape))\n",
    "\n",
    "test_tensors_s = DatasetTestDays(test_data_s, (norm_min, norm_max), train_window)\n",
    "print(\"Testing input and output for one station for selected days: %s, %s\" % (test_tensors_s[0][0].shape, test_tensors_s[0][1].shape))"
   ]
  },
  {
   "cell_type": "code",
   "execution_count": null,
   "metadata": {},
   "outputs": [],
   "source": [
    "db = {'train': train_tensors, 'test': test_tensors, \"test_s\": test_tensors_s}\n",
    "torch.save(db, './checkpoint/IoT_final/TensorData/Torch_db_station')"
   ]
  },
  {
   "cell_type": "code",
   "execution_count": null,
   "metadata": {},
   "outputs": [],
   "source": [
    "# initialize and train the model\n",
    "loss_func, model, optimizer = initial_model(input_size, output_size, hidden_size, num_layers, learning_rate, device) \n",
    "Training(train_tensors, checkpoint_format = './checkpoint/IoT_final/checkpoint-station-{epoch}.pth.tar')"
   ]
  },
  {
   "cell_type": "markdown",
   "metadata": {},
   "source": [
    "# 8. Predict and Statistic Analysis_SplitByStation"
   ]
  },
  {
   "cell_type": "code",
   "execution_count": null,
   "metadata": {},
   "outputs": [],
   "source": [
    "# read the saved model and use the best one for predicting\n",
    "checkpoint_station = torch.load('./checkpoint/IoT_final/checkpoint-station-{epoch}.pth.tar'.format(epoch = 24))\n",
    "_, model, _ = initial_model()\n",
    "model.load_state_dict(checkpoint_station['bestLossModel'])\n",
    "\n",
    "plt.plot(checkpoint_station['train_loss'])\n",
    "plt.plot(checkpoint_station['test_loss'])\n",
    "plt.show "
   ]
  },
  {
   "cell_type": "code",
   "execution_count": null,
   "metadata": {},
   "outputs": [],
   "source": [
    "# read save data\n",
    "loaded = torch.load('./checkpoint/IoT_final/TensorData/Torch_db_station')\n",
    "train_tensors = loaded['train']\n",
    "test_tensors = loaded['test']\n",
    "test_tensors_s = loaded['test_s']\n",
    "norm_min, norm_max = train_tensors.min, train_tensors.max\n",
    "\n",
    "train_pred_orig_dict = predict(model, train_tensors, (norm_min, norm_max))\n",
    "test_pred_orig_dict = predict(model, test_tensors, (norm_min, norm_max))\n",
    "tests_pred_orig_dict = predict(model, test_tensors_s, (norm_min, norm_max))\n",
    "\n",
    "\n",
    "# train stations\n",
    "trainScores_stations, _, _, _ = stat_scores(train_pred_orig_dict)\n",
    "# test stations\n",
    "testScores_stations, test_min, test_mean, test_max  = stat_scores(test_pred_orig_dict)\n",
    "# test stations for selected days\n",
    "testsScores_stations, tests_min, tests_mean, tests_max  = stat_scores(tests_pred_orig_dict)\n",
    "\n",
    "print(\"Maximum, Mean and Minimum RMSE for Training Stations are: %f, %f, %f\" % (max(trainScores_stations.values()), mean(trainScores_stations.values()), min(trainScores_stations.values())))\n",
    "print(sorted(trainScores_stations.values(), reverse=True)[:10])\n",
    "print(\"\\n\")\n",
    "print(\"Maximum, Mean and Minimum RMSE for Testing Stations are: %f, %f, %f\" % (max(testScores_stations.values()), mean(testScores_stations.values()), min(testScores_stations.values())))\n",
    "print(\"Test Stations with min, mean and max RMSE are %s, %s, %s\" % (test_min, test_mean, test_max))\n",
    "print(sorted(testScores_stations.values(), reverse=True)[:10])\n",
    "print(\"\\n\")\n",
    "print(\"Maximum, Mean and Minimum RMSE for Testing Stations at selected days are: %f, %f, %f\" % (max(testsScores_stations.values()), mean(testsScores_stations.values()), min(testsScores_stations.values())))\n",
    "print(\"Test Stations with min, mean and max RMSE for selected days are %s, %s, %s\" % (tests_min, tests_mean, tests_max))\n",
    "print(sorted(testsScores_stations.values(), reverse=True)[:10])\n",
    "\n",
    "# RMSE over predicted time points for test station with mean error\n",
    "over_time = np.mean(abs(test_pred_orig_dict[test_mean][1] - test_pred_orig_dict[test_mean][0]).numpy(), axis =0)\n",
    "print(over_time)\n",
    "plt.plot(over_time)\n",
    "plt.show()"
   ]
  },
  {
   "cell_type": "code",
   "execution_count": null,
   "metadata": {
    "scrolled": true
   },
   "outputs": [],
   "source": [
    "# plot baseline and predictions for test station having max RMSE\n",
    "fig, axs = plt.subplots(5, 5, sharex=True, sharey=True, figsize=(10,10))\n",
    "i  =0\n",
    "for row in axs:\n",
    "    for col in row:\n",
    "        col.plot(tests_pred_orig_dict[tests_mean][0][i]) # predicted\n",
    "        col.plot(tests_pred_orig_dict[tests_mean][1][i]) # original\n",
    "        i+=1"
   ]
  }
 ],
 "metadata": {
  "kernelspec": {
   "display_name": "Python 3",
   "language": "python",
   "name": "python3"
  },
  "language_info": {
   "codemirror_mode": {
    "name": "ipython",
    "version": 3
   },
   "file_extension": ".py",
   "mimetype": "text/x-python",
   "name": "python",
   "nbconvert_exporter": "python",
   "pygments_lexer": "ipython3",
   "version": "3.7.5"
  }
 },
 "nbformat": 4,
 "nbformat_minor": 4
}
